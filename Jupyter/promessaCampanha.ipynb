{
 "cells": [
  {
   "cell_type": "markdown",
   "metadata": {},
   "source": [
    "# Beecrword (BEE  1835)\n",
    "## Promessa de Campanha\n",
    "* link do enunciado: https://www.beecrowd.com.br/judge/pt/problems/view/1835\n",
    "* Esta questão possuia casos de testes que não estava na formatação usual. Sendo assim, não conseguimos identificar uma forma de interpretar o caso de teste."
   ]
  },
  {
   "cell_type": "code",
   "execution_count": null,
   "metadata": {},
   "outputs": [],
   "source": [
    "from math import pi, sin, cos"
   ]
  },
  {
   "cell_type": "markdown",
   "metadata": {},
   "source": [
    "# Macros"
   ]
  },
  {
   "cell_type": "code",
   "execution_count": null,
   "metadata": {},
   "outputs": [],
   "source": [
    "def ri():\n",
    "    return int(input())\n",
    "\n",
    "def mi():\n",
    "    return map(int, input().split())\n",
    "\n",
    "def mf():\n",
    "    return map(float, input().split())\n",
    "\n",
    "def lis():\n",
    "    return list(map(int, input().split()))"
   ]
  },
  {
   "cell_type": "code",
   "execution_count": null,
   "metadata": {},
   "outputs": [],
   "source": [
    "class Graph:\n",
    "    def __init__(self, nNodes, edges):\n",
    "        self.numNodes = nNodes\n",
    "        self.edges = edges\n",
    "        # self.nodes = list(range(1, nNodes + 1))\n",
    "        self.graph = {node: [] for node in range(1, self.numNodes+1)}\n",
    "        for edge in edges:\n",
    "            self.graph[edge[0]].append(edge[1])\n",
    "            self.graph[edge[1]].append(edge[0])\n",
    "\n",
    "    # dfs\n",
    "    def dfs(self, start):\n",
    "        visited = []\n",
    "        stack = [start]\n",
    "        while stack:\n",
    "            node = stack.pop()\n",
    "            if node not in visited:\n",
    "                visited.append(node)\n",
    "                stack.extend(self.graph[node])\n",
    "        return visited\n",
    "\n",
    "    # bfs\n",
    "    def bfs(self, start):\n",
    "        visited = []\n",
    "        queue = [start]\n",
    "        while queue:\n",
    "            node = queue.pop(0)\n",
    "            if node not in visited:\n",
    "                visited.append(node)\n",
    "                queue.extend(self.graph[node])\n",
    "        return visited\n",
    "\n",
    "    def add_edge(self, node1, node2):\n",
    "        self.graph[node1].append(node2)\n",
    "        self.graph[node2].append(node1)\n",
    "\n",
    "    def add_node(self, node):\n",
    "        self.graph[node] = []\n",
    "\n",
    "    def get_neighbors(self, node):\n",
    "        return self.graph[node]\n",
    "\n",
    "    def get_edges(self):\n",
    "        return self.edges\n",
    "\n",
    "    def get_graph(self):\n",
    "        return self.graph\n",
    "\n",
    "    def get_nodes(self):\n",
    "        return list(range(self.numNodes))\n",
    "\n",
    "    # check if is connected using bfs\n",
    "    def is_connected(self):\n",
    "        visited = self.bfs(1)\n",
    "        return len(visited) == self.numNodes\n",
    "\n",
    "    # check number of groups of connected components\n",
    "    def num_groups(self):\n",
    "        visited = self.bfs(1)\n",
    "        chunks = 1\n",
    "        # check if node is in visited\n",
    "        for node in range(1, self.numNodes+1):\n",
    "            if node not in visited:\n",
    "                new_visited = self.bfs(node)\n",
    "                # add difference to visited\n",
    "                visited.extend(new_visited)\n",
    "                chunks += 1\n",
    "        return chunks"
   ]
  },
  {
   "cell_type": "markdown",
   "metadata": {},
   "source": [
    "# Main"
   ]
  },
  {
   "cell_type": "code",
   "execution_count": null,
   "metadata": {},
   "outputs": [],
   "source": [
    "t = int(input())"
   ]
  },
  {
   "cell_type": "code",
   "execution_count": null,
   "metadata": {},
   "outputs": [],
   "source": [
    "for i in range(t):\n",
    "    # check if input is a space or contains a space and remove it\n",
    "    if ' ' in input():\n",
    "        input()\n",
    "    nNodes = ri()\n",
    "    if ' ' in input():\n",
    "        input()\n",
    "    nEdges = ri()\n",
    "    edges = []\n",
    "    for j in range(nEdges):\n",
    "        if ' ' in input():\n",
    "            input()\n",
    "        x, y = mi()\n",
    "        edges.append((x, y))\n",
    "\n",
    "    graph = Graph(nNodes, edges)\n",
    "\n",
    "    promessa = graph.num_groups()-1\n",
    "\n",
    "    if promessa > 0:\n",
    "        print(\"Case #{}: ainda faltam(m) {} estrada(s)\".format(i+1, promessa))\n",
    "    else:\n",
    "        print(\"Case #{}: a promessa foi cumprida\".format(i+1))"
   ]
  }
 ],
 "metadata": {
  "kernelspec": {
   "display_name": "Python 3.10.4 64-bit",
   "language": "python",
   "name": "python3"
  },
  "language_info": {
   "name": "python",
   "version": "3.10.4"
  },
  "orig_nbformat": 4,
  "vscode": {
   "interpreter": {
    "hash": "31f2aee4e71d21fbe5cf8b01ff0e069b9275f58929596ceb00d14d90e3e16cd6"
   }
  }
 },
 "nbformat": 4,
 "nbformat_minor": 2
}
