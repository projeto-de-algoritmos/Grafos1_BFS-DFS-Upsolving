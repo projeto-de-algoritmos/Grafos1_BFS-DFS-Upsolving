{
 "cells": [
  {
   "cell_type": "markdown",
   "metadata": {},
   "source": [
    "# Codeforces (862B - 25)\n",
    "## B. Mahmoud and Ehab and the bipartiteness\n",
    "\n",
    "* link para enunciado: https://codeforces.com/problemset/problem/862/B"
   ]
  },
  {
   "cell_type": "code",
   "execution_count": 2,
   "metadata": {},
   "outputs": [],
   "source": [
    "from collections import defaultdict\n",
    "from queue import Queue as Fila"
   ]
  },
  {
   "cell_type": "code",
   "execution_count": 3,
   "metadata": {},
   "outputs": [],
   "source": [
    "class Graph:\n",
    "    def __init__(self, nNodes, edges):\n",
    "        self.numNodes = nNodes\n",
    "        self.edges = edges\n",
    "        # self.nodes = list(range(1, nNodes + 1))\n",
    "        self.graph = defaultdict(list)\n",
    "        for edge in edges:\n",
    "            self.graph[edge[0]].append(edge[1])\n",
    "            self.graph[edge[1]].append(edge[0])\n",
    "\n",
    "    # bfs\n",
    "    def bfs(self, start):\n",
    "        visited = defaultdict(int)\n",
    "        \n",
    "        fila = Fila()\n",
    "        fila.put(start)\n",
    "        \n",
    "        visited[start] = 1\n",
    "        while not fila.empty():\n",
    "            node = fila.get()\n",
    "            for i in self.get_neighbors(node): \n",
    "                if visited[i] == 0:\n",
    "                    visited[i] = visited[node]*(-1)\n",
    "                    fila.put(i)\n",
    "        return sum(value == 1 for value in visited.values())\n",
    "\n",
    "    def get_neighbors(self, node):\n",
    "        return self.graph[node]\n",
    "\n",
    "    def get_edges(self):\n",
    "        return self.edges\n",
    "\n",
    "    def get_graph(self):\n",
    "        return self.graph\n",
    "\n",
    "    def get_nodes(self):\n",
    "        return list(range(self.numNodes))"
   ]
  },
  {
   "cell_type": "markdown",
   "metadata": {},
   "source": [
    "# Main"
   ]
  },
  {
   "cell_type": "code",
   "execution_count": 5,
   "metadata": {},
   "outputs": [],
   "source": [
    "nNodes = int(input())\n",
    "\n",
    "edges = []\n",
    "for i in range(nNodes-1):\n",
    "    x, y = tuple(map(int, input().split()))\n",
    "    edges.append((x, y))"
   ]
  },
  {
   "cell_type": "code",
   "execution_count": 6,
   "metadata": {},
   "outputs": [],
   "source": [
    "graph = Graph(nNodes, edges)\n",
    "# print(graph.get_edges())\n",
    "# print(graph.get_graph())\n",
    "# print(graph.get_neighbors(3))"
   ]
  },
  {
   "cell_type": "code",
   "execution_count": 7,
   "metadata": {},
   "outputs": [
    {
     "name": "stdout",
     "output_type": "stream",
     "text": [
      "2\n"
     ]
    }
   ],
   "source": [
    "solution = graph.bfs(1)\n",
    "# print(solution)\n",
    "print(solution*(nNodes-solution)-(nNodes-1))"
   ]
  },
  {
   "cell_type": "markdown",
   "metadata": {},
   "source": [
    "## Comprovação accepted\n",
    "* link: https://codeforces.com/contest/862/submission/161896067\n",
    "\n",
    "![ACC](../Jupyter/Imagens/bipartiteACC.png)"
   ]
  }
 ],
 "metadata": {
  "kernelspec": {
   "display_name": "Python 3.10.4 64-bit",
   "language": "python",
   "name": "python3"
  },
  "language_info": {
   "codemirror_mode": {
    "name": "ipython",
    "version": 3
   },
   "file_extension": ".py",
   "mimetype": "text/x-python",
   "name": "python",
   "nbconvert_exporter": "python",
   "pygments_lexer": "ipython3",
   "version": "3.10.4"
  },
  "orig_nbformat": 4,
  "vscode": {
   "interpreter": {
    "hash": "31f2aee4e71d21fbe5cf8b01ff0e069b9275f58929596ceb00d14d90e3e16cd6"
   }
  }
 },
 "nbformat": 4,
 "nbformat_minor": 2
}
